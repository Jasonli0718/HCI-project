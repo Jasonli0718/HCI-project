{
  "cells": [
    {
      "cell_type": "markdown",
      "metadata": {
        "id": "tAB88ZilTIFl"
      },
      "source": [
        "# Sentiment analysis using pre-trained language models"
      ]
    },
    {
      "cell_type": "markdown",
      "metadata": {
        "id": "qjI1K0T4TIFp"
      },
      "source": [
        "## Download Hugging face lib\n",
        "\n",
        "https://huggingface.co/docs/transformers/v4.15.0/installation"
      ]
    },
    {
      "cell_type": "code",
      "execution_count": 10,
      "metadata": {
        "colab": {
          "base_uri": "https://localhost:8080/"
        },
        "id": "p2voDJH4TIFr",
        "outputId": "de4817ae-2804-4d86-c5a9-a7a1f3d807cc"
      },
      "outputs": [
        {
          "output_type": "stream",
          "name": "stdout",
          "text": [
            "/bin/bash: line 1: conda: command not found\n",
            "Requirement already satisfied: torch in /usr/local/lib/python3.10/dist-packages (2.1.0+cu118)\n",
            "Requirement already satisfied: filelock in /usr/local/lib/python3.10/dist-packages (from torch) (3.13.1)\n",
            "Requirement already satisfied: typing-extensions in /usr/local/lib/python3.10/dist-packages (from torch) (4.5.0)\n",
            "Requirement already satisfied: sympy in /usr/local/lib/python3.10/dist-packages (from torch) (1.12)\n",
            "Requirement already satisfied: networkx in /usr/local/lib/python3.10/dist-packages (from torch) (3.2.1)\n",
            "Requirement already satisfied: jinja2 in /usr/local/lib/python3.10/dist-packages (from torch) (3.1.2)\n",
            "Requirement already satisfied: fsspec in /usr/local/lib/python3.10/dist-packages (from torch) (2023.6.0)\n",
            "Requirement already satisfied: triton==2.1.0 in /usr/local/lib/python3.10/dist-packages (from torch) (2.1.0)\n",
            "Requirement already satisfied: MarkupSafe>=2.0 in /usr/local/lib/python3.10/dist-packages (from jinja2->torch) (2.1.3)\n",
            "Requirement already satisfied: mpmath>=0.19 in /usr/local/lib/python3.10/dist-packages (from sympy->torch) (1.3.0)\n",
            "Requirement already satisfied: chardet in /usr/local/lib/python3.10/dist-packages (5.2.0)\n",
            "Requirement already satisfied: transformers in /usr/local/lib/python3.10/dist-packages (4.35.0)\n",
            "Requirement already satisfied: filelock in /usr/local/lib/python3.10/dist-packages (from transformers) (3.13.1)\n",
            "Requirement already satisfied: huggingface-hub<1.0,>=0.16.4 in /usr/local/lib/python3.10/dist-packages (from transformers) (0.17.3)\n",
            "Requirement already satisfied: numpy>=1.17 in /usr/local/lib/python3.10/dist-packages (from transformers) (1.23.5)\n",
            "Requirement already satisfied: packaging>=20.0 in /usr/local/lib/python3.10/dist-packages (from transformers) (23.2)\n",
            "Requirement already satisfied: pyyaml>=5.1 in /usr/local/lib/python3.10/dist-packages (from transformers) (6.0.1)\n",
            "Requirement already satisfied: regex!=2019.12.17 in /usr/local/lib/python3.10/dist-packages (from transformers) (2023.6.3)\n",
            "Requirement already satisfied: requests in /usr/local/lib/python3.10/dist-packages (from transformers) (2.31.0)\n",
            "Requirement already satisfied: tokenizers<0.15,>=0.14 in /usr/local/lib/python3.10/dist-packages (from transformers) (0.14.1)\n",
            "Requirement already satisfied: safetensors>=0.3.1 in /usr/local/lib/python3.10/dist-packages (from transformers) (0.4.0)\n",
            "Requirement already satisfied: tqdm>=4.27 in /usr/local/lib/python3.10/dist-packages (from transformers) (4.66.1)\n",
            "Requirement already satisfied: fsspec in /usr/local/lib/python3.10/dist-packages (from huggingface-hub<1.0,>=0.16.4->transformers) (2023.6.0)\n",
            "Requirement already satisfied: typing-extensions>=3.7.4.3 in /usr/local/lib/python3.10/dist-packages (from huggingface-hub<1.0,>=0.16.4->transformers) (4.5.0)\n",
            "Requirement already satisfied: charset-normalizer<4,>=2 in /usr/local/lib/python3.10/dist-packages (from requests->transformers) (3.3.2)\n",
            "Requirement already satisfied: idna<4,>=2.5 in /usr/local/lib/python3.10/dist-packages (from requests->transformers) (3.4)\n",
            "Requirement already satisfied: urllib3<3,>=1.21.1 in /usr/local/lib/python3.10/dist-packages (from requests->transformers) (2.0.7)\n",
            "Requirement already satisfied: certifi>=2017.4.17 in /usr/local/lib/python3.10/dist-packages (from requests->transformers) (2023.7.22)\n"
          ]
        }
      ],
      "source": [
        "!conda install -c huggingface transformers\n",
        "!pip install torch\n",
        "!pip install chardet\n",
        "!pip install transformers"
      ]
    },
    {
      "cell_type": "code",
      "execution_count": 11,
      "metadata": {
        "colab": {
          "base_uri": "https://localhost:8080/"
        },
        "id": "P0Ra57QUTIFv",
        "outputId": "6625bc39-6ec2-49c2-d5f1-39178864020d"
      },
      "outputs": [
        {
          "output_type": "stream",
          "name": "stderr",
          "text": [
            "No model was supplied, defaulted to distilbert-base-uncased-finetuned-sst-2-english and revision af0f99b (https://huggingface.co/distilbert-base-uncased-finetuned-sst-2-english).\n",
            "Using a pipeline without specifying a model name and revision in production is not recommended.\n"
          ]
        },
        {
          "output_type": "execute_result",
          "data": {
            "text/plain": [
              "[{'label': 'POSITIVE', 'score': 0.9994031190872192}]"
            ]
          },
          "metadata": {},
          "execution_count": 11
        }
      ],
      "source": [
        "from transformers import pipeline\n",
        "from collections import Counter\n",
        "from nltk.corpus import stopwords\n",
        "from nltk.tokenize import word_tokenize\n",
        "import pandas as pd\n",
        "import numpy as np\n",
        "from transformers import pipeline, AutoTokenizer\n",
        "import matplotlib.pyplot as plt\n",
        "\n",
        "# Download stopwords if not already downloaded\n",
        "import nltk\n",
        "\n",
        "classifier = pipeline(\"sentiment-analysis\")\n",
        "classifier(\"I am impressed how long this ink last and how fast the seller sent it to me. Not a hitch at all, fantastic.\")"
      ]
    },
    {
      "cell_type": "code",
      "source": [
        "from google.colab import drive\n",
        "drive.mount('/content/drive')"
      ],
      "metadata": {
        "colab": {
          "base_uri": "https://localhost:8080/"
        },
        "id": "uVjz9ApSXFoU",
        "outputId": "4ab7e5da-6fa9-4477-ecc9-1ebeefbb32a8"
      },
      "execution_count": 12,
      "outputs": [
        {
          "output_type": "stream",
          "name": "stdout",
          "text": [
            "Drive already mounted at /content/drive; to attempt to forcibly remount, call drive.mount(\"/content/drive\", force_remount=True).\n"
          ]
        }
      ]
    },
    {
      "cell_type": "code",
      "source": [
        "\n",
        "\n",
        "#file_path = '/content/drive/MyDrive/EE4213/individual assignment/csv/kindle review.csv'  # Update with the actual file path\n",
        "file_path = '/content/drive/MyDrive/EE4213/individual assignment/csv/Kobo Libra 2 review.csv'\n",
        "#file_path = '/content/drive/MyDrive/EE4213/individual assignment/csv/pocketBook review.csv'\n",
        "df = pd.read_csv(file_path)\n",
        "\n",
        "review_data = df['review_detail'].tolist()\n",
        "review_title = df['review_title'].tolist()\n",
        "rating = df['rate'].tolist()\n",
        "reviewer = df['name'].tolist()\n",
        "\n",
        "#review_data_2d = [review_data[i:i+2] for i in range(0, len(review_data), 2)]\n",
        "print(review_data[0])\n",
        "print(\"Length of review_data:\", len(review_data))\n",
        "#print(\"Length of review_data 11:\", len(review_data[11])) #7003 #set max 1800\n",
        "#for i in range(len(review_data)):\n"
      ],
      "metadata": {
        "colab": {
          "base_uri": "https://localhost:8080/"
        },
        "id": "Qxasbl3nXBJ_",
        "outputId": "0b53e9e7-bbcd-4c37-9ef8-7654ea09f628"
      },
      "execution_count": 64,
      "outputs": [
        {
          "output_type": "stream",
          "name": "stdout",
          "text": [
            "Sometimes I can't download all the books I buy on platforms other than the Kobo brand\n",
            "Length of review_data: 100\n"
          ]
        }
      ]
    },
    {
      "cell_type": "code",
      "source": [
        "positive_count = 0\n",
        "negative_count = 0\n",
        "#1st number:+ve, 2nd number:-ve\n",
        "rating_Comment = [[\"1.0 out of 5 stars\",0,0],[\"2.0 out of 5 stars\",0,0],[\"3.0 out of 5 stars\",0,0],[\"4.0 out of 5 stars\",0,0],[\"5.0 out of 5 stars\",0,0]]\n",
        "#print(rating_Comment[1][0]) #\"2.0 out of 5 stars\"\n",
        "all_data = [] #0:id, 1:reviewer, 2:rating, 3:title, 4:comment, 5:label, 6:score\n",
        "all_data_columns = ['ID', 'Reviewer', 'Rating', 'Title', 'Comment', 'Label', 'Score']\n",
        "counter = 0\n",
        "\n",
        "for i in range(len(review_data)):\n",
        "    # print(i)\n",
        "    #print(review_data[i])\n",
        "    if len(review_data[i]) > 1500:\n",
        "      for j in range(len(review_data[i])//1500+1):\n",
        "        output = classifier(review_data[i][j*1500:(j+1)*1500])\n",
        "        # print(output)\n",
        "        for result in output:\n",
        "            if result['label'] == 'POSITIVE':\n",
        "                for k in range(0,5):\n",
        "                    if rating[i] == rating_Comment[k][0]:\n",
        "                        #print(rating[i])\n",
        "                        rating_Comment[k][1] += 1/((len(review_data[i])//1500)+1)\n",
        "\n",
        "                positive_count += 1/((len(review_data[i])//1500)+1)\n",
        "            elif result['label'] == 'NEGATIVE':\n",
        "                for k in range(0,5):\n",
        "                    if rating[i] == rating_Comment[k][0]:\n",
        "                        #print(rating[i])\n",
        "                        rating_Comment[k][2] += 1/((len(review_data[i])//1500)+1)\n",
        "                negative_count += 1/((len(review_data[i])//1500)+1)\n",
        "        all_data.append([0] * 7)\n",
        "        all_data[counter][0] = i+((j+1)/10)\n",
        "        all_data[counter][1] = reviewer[i]\n",
        "        all_data[counter][2] = rating[i]\n",
        "        all_data[counter][3] = review_title[i]\n",
        "        all_data[counter][4] = review_data[i][j*1500:(j+1)*1500]\n",
        "        all_data[counter][5] = result['label']\n",
        "        all_data[counter][6] = result['score']\n",
        "        counter += 1\n",
        "    elif len(review_data[i]) <= 1500:\n",
        "        output = classifier(review_data[i])\n",
        "        #print(output)\n",
        "        for result in output:\n",
        "            if result['label'] == 'POSITIVE':\n",
        "                for k in range(0,5):\n",
        "                    if rating[i] == rating_Comment[k][0]:\n",
        "                        #print(rating[i])\n",
        "                        rating_Comment[k][1] += 1\n",
        "                positive_count += 1\n",
        "            elif result['label'] == 'NEGATIVE':\n",
        "                for k in range(0,5):\n",
        "                    if rating[i] == rating_Comment[k][0]:\n",
        "                        #print(rating[i])\n",
        "                        rating_Comment[k][2] += 1\n",
        "                negative_count += 1\n",
        "        all_data.append([0] * 7)\n",
        "        all_data[counter][0] = i\n",
        "        all_data[counter][1] = reviewer[i]\n",
        "        all_data[counter][2] = rating[i]\n",
        "        all_data[counter][3] = review_title[i]\n",
        "        all_data[counter][4] = review_data[i]\n",
        "        all_data[counter][5] = result['label']\n",
        "        all_data[counter][6] = result['score']\n",
        "        counter += 1\n",
        "\n",
        "#print(all_data)\n",
        "\n",
        "\n",
        "print(\"Positive Count:\", positive_count)\n",
        "print(\"Negative Count:\", negative_count)\n",
        "# print(\"Rating:\", rating_Comment)"
      ],
      "metadata": {
        "colab": {
          "base_uri": "https://localhost:8080/"
        },
        "id": "ht4qvF-FUbhi",
        "outputId": "24d18dd0-e0af-4374-8825-1254fd020bf3"
      },
      "execution_count": 44,
      "outputs": [
        {
          "output_type": "stream",
          "name": "stdout",
          "text": [
            "Positive Count: 58.5\n",
            "Negative Count: 41.5\n"
          ]
        }
      ]
    },
    {
      "cell_type": "markdown",
      "source": [
        "**Show All Of The Results**"
      ],
      "metadata": {
        "id": "gSCMbpQYBfQG"
      }
    },
    {
      "cell_type": "code",
      "source": [
        "pd.set_option('display.max_columns', None)\n",
        "df = pd.DataFrame(all_data, columns=all_data_columns)\n",
        "print(df)"
      ],
      "metadata": {
        "colab": {
          "base_uri": "https://localhost:8080/"
        },
        "id": "xkv1-yvYBePL",
        "outputId": "e259dd34-478f-4e8d-a43f-29768cea32f7"
      },
      "execution_count": 45,
      "outputs": [
        {
          "output_type": "stream",
          "name": "stdout",
          "text": [
            "       ID                 Reviewer              Rating  \\\n",
            "0     0.0           Sharon Freelon  2.0 out of 5 stars   \n",
            "1     1.0                 Duckfeet  5.0 out of 5 stars   \n",
            "2     2.0          Rachel Drenning  5.0 out of 5 stars   \n",
            "3     3.0               powerglide  4.0 out of 5 stars   \n",
            "4     4.0  Salvador Congost Luengo  5.0 out of 5 stars   \n",
            "..    ...                      ...                 ...   \n",
            "101  95.0             Heidi Bastek  3.0 out of 5 stars   \n",
            "102  96.0           Cliente Amazon  5.0 out of 5 stars   \n",
            "103  97.0                  Peter F  5.0 out of 5 stars   \n",
            "104  98.0                   Birgit  5.0 out of 5 stars   \n",
            "105  99.0             Amazon Kunde  5.0 out of 5 stars   \n",
            "\n",
            "                                     Title  \\\n",
            "0                                 Well....   \n",
            "1    Perfect for backpacking entertainment   \n",
            "2                        Best eReader ever   \n",
            "3                                     Good   \n",
            "4                        Magnificent ebook   \n",
            "..                                     ...   \n",
            "101                         Warranty Claim   \n",
            "102  Compatibility with all e-book formats   \n",
            "103                           Perfect Book   \n",
            "104                         Good backlight   \n",
            "105                      Top e-Book Reader   \n",
            "\n",
            "                                               Comment     Label     Score  \n",
            "0    So disappointed! I wanted a smaller eReader an...  NEGATIVE  0.999190  \n",
            "1    Update: recent update fixed the glitch and it ...  POSITIVE  0.995847  \n",
            "2    I have tried every Kindle, Book, Kobo, etc. an...  POSITIVE  0.969858  \n",
            "3    Good device, unfortunately reacts a bit sluggi...  POSITIVE  0.979507  \n",
            "4                         A good second-hand purchase.  POSITIVE  0.999755  \n",
            "..                                                 ...       ...       ...  \n",
            "101  The device can no longer be charged, how can w...  POSITIVE  0.983815  \n",
            "102  I like almost everything, it's very comfortabl...  POSITIVE  0.999862  \n",
            "103  The pocketbook Touch HD3 has many advantages f...  POSITIVE  0.986760  \n",
            "104  I'm really excited. Very good to read. Light w...  POSITIVE  0.996625  \n",
            "105  Fast delivery, goods flawless. The reader gets...  POSITIVE  0.999819  \n",
            "\n",
            "[106 rows x 7 columns]\n"
          ]
        }
      ]
    },
    {
      "cell_type": "markdown",
      "source": [
        "**Show the graph: \"Number of comments in different rating\"**"
      ],
      "metadata": {
        "id": "_DAvic5XHdCE"
      }
    },
    {
      "cell_type": "code",
      "source": [
        "# Rating data\n",
        "#Rating = [['1.0 out of 5 stars', 2, 19.0], ['2.0 out of 5 stars', 1, 9.0], ['3.0 out of 5 stars', 0, 5], ['4.0 out of 5 stars', 6.5, 3.5], ['5.0 out of 5 stars', 47.06666666666667, 6.933333333333334]]\n",
        "Rating = rating_Comment\n",
        "\n",
        "# Extracting data for plotting\n",
        "x = [item[0] for item in Rating]\n",
        "y_positive = [item[1] for item in Rating]\n",
        "y_negative = [item[2] for item in Rating]\n",
        "\n",
        "# Calculate the total number of comments\n",
        "total_comments = [positive + negative for positive, negative in zip(y_positive, y_negative)]\n",
        "\n",
        "# Increase figure size\n",
        "plt.figure(figsize=(10, 6))\n",
        "\n",
        "# Set the width of the bars\n",
        "bar_width = 0.5\n",
        "\n",
        "# Plotting the bar chart\n",
        "plt.bar(x, total_comments, color='orange', width=bar_width)\n",
        "\n",
        "# Adjust x-axis tick positions\n",
        "#plt.xticks(rotation=45, ha='right')\n",
        "\n",
        "# Adding labels and title\n",
        "plt.xlabel('Rating')\n",
        "plt.ylabel('Total Number of Comments')\n",
        "plt.title('Total Number of Comments for Different Ratings')\n",
        "\n",
        "# Displaying the plot\n",
        "plt.tight_layout()\n",
        "plt.show()"
      ],
      "metadata": {
        "colab": {
          "base_uri": "https://localhost:8080/",
          "height": 607
        },
        "id": "m_9_ZfiuHckc",
        "outputId": "bc4e002a-5474-4787-ff67-92a10823d4bf"
      },
      "execution_count": 46,
      "outputs": [
        {
          "output_type": "display_data",
          "data": {
            "text/plain": [
              "<Figure size 1000x600 with 1 Axes>"
            ],
            "image/png": "[encoded data removed]"
          },
          "metadata": {}
        }
      ]
    },
    {
      "cell_type": "markdown",
      "source": [
        "**Show the graph: \"Positive and Negative Counts by Rating\"**"
      ],
      "metadata": {
        "id": "sB3cttMbGGbK"
      }
    },
    {
      "cell_type": "code",
      "source": [
        "\n",
        "x = [item[0] for item in rating_Comment]\n",
        "y_positive = [item[1] for item in rating_Comment]\n",
        "y_negative = [item[2] for item in rating_Comment]\n",
        "\n",
        "# Set the width of the bars\n",
        "bar_width = 0.35\n",
        "\n",
        "# Set the positions of the bars on the x-axis\n",
        "r1 = np.arange(len(x))\n",
        "r2 = [x + bar_width for x in r1]\n",
        "\n",
        "# Increase figure size\n",
        "plt.figure(figsize=(10, 6))\n",
        "\n",
        "# Plotting the bars\n",
        "plt.bar(r1, y_positive, color='green', width=bar_width, label='Positive', align='center')\n",
        "plt.bar(r2, y_negative, color='red', width=bar_width, label='Negative', align='center')\n",
        "\n",
        "# Adding x-axis labels\n",
        "plt.xticks([r + bar_width/2 for r in r1], x)\n",
        "\n",
        "# Adding labels and title\n",
        "plt.xlabel('Rating')\n",
        "plt.ylabel('Count')\n",
        "plt.title('Positive and Negative Counts by Rating')\n",
        "\n",
        "# Adding legend\n",
        "plt.legend()\n",
        "\n",
        "# Displaying the plot\n",
        "plt.show()\n",
        "print(\"Rating:\", rating_Comment)"
      ],
      "metadata": {
        "colab": {
          "base_uri": "https://localhost:8080/",
          "height": 601
        },
        "id": "jFC_ZCpbGJ3y",
        "outputId": "8a130b0a-65c6-43e0-f016-f7c0c20cc13e"
      },
      "execution_count": 47,
      "outputs": [
        {
          "output_type": "display_data",
          "data": {
            "text/plain": [
              "<Figure size 1000x600 with 1 Axes>"
            ],
            "image/png": "[encoded data removed]"
          },
          "metadata": {}
        },
        {
          "output_type": "stream",
          "name": "stdout",
          "text": [
            "Rating: [['1.0 out of 5 stars', 1.5, 10.5], ['2.0 out of 5 stars', 1, 8], ['3.0 out of 5 stars', 3, 16.0], ['4.0 out of 5 stars', 12, 6], ['5.0 out of 5 stars', 41.0, 1]]\n"
          ]
        }
      ]
    },
    {
      "cell_type": "markdown",
      "source": [
        "**Show the words with many appearance in both positive and negative comments (Neglect stopwords (eg: I, to, for))**"
      ],
      "metadata": {
        "id": "haQ_AEMxKZof"
      }
    },
    {
      "cell_type": "code",
      "source": [
        "nltk.download('stopwords')\n",
        "nltk.download('punkt')\n",
        "\n",
        "# Get the list of stopwords\n",
        "stop_words = set(stopwords.words('english'))\n",
        "\n",
        "# Positive and Negative word counters\n",
        "positive_words = Counter()\n",
        "negative_words = Counter()\n",
        "\n",
        "# Iterate over all_data to count words for each label\n",
        "for data in all_data:\n",
        "    comment = data[4]  # Comment is at index 4\n",
        "    label = data[5]  # Label is at index 5\n",
        "\n",
        "    # Tokenize the comment into words\n",
        "    words = word_tokenize(comment)\n",
        "\n",
        "    # Remove stopwords and filter out common words\n",
        "    filtered_words = [word.lower() for word in words if word.lower() not in stop_words and word.isalpha()]\n",
        "\n",
        "    # Update the word counter based on the label\n",
        "    if label == 'POSITIVE':\n",
        "        positive_words.update(filtered_words)\n",
        "    elif label == 'NEGATIVE':\n",
        "        negative_words.update(filtered_words)\n",
        "\n",
        "# Get the top 5 most common words for POSITIVE label\n",
        "top_positive_words = positive_words.most_common(30)\n",
        "\n",
        "# Get the top 5 most common words for NEGATIVE label\n",
        "top_negative_words = negative_words.most_common(30)\n",
        "\n",
        "print(\"Top 30 words in POSITIVE comments:\")\n",
        "for word, count in top_positive_words:\n",
        "    print(f\"{word}: {count}\")\n",
        "\n",
        "print(\"Top 30 words in NEGATIVE comments:\")\n",
        "for word, count in top_negative_words:\n",
        "    print(f\"{word}: {count}\")"
      ],
      "metadata": {
        "colab": {
          "base_uri": "https://localhost:8080/"
        },
        "id": "qOBNt5qTJqLh",
        "outputId": "bdc557a5-71fe-4377-ce30-5c443f0660c1"
      },
      "execution_count": 18,
      "outputs": [
        {
          "output_type": "stream",
          "name": "stderr",
          "text": [
            "[nltk_data] Downloading package stopwords to /root/nltk_data...\n",
            "[nltk_data]   Unzipping corpora/stopwords.zip.\n",
            "[nltk_data] Downloading package punkt to /root/nltk_data...\n",
            "[nltk_data]   Unzipping tokenizers/punkt.zip.\n"
          ]
        },
        {
          "output_type": "stream",
          "name": "stdout",
          "text": [
            "Top 30 words in POSITIVE comments:\n",
            "kindle: 61\n",
            "read: 33\n",
            "reading: 33\n",
            "love: 33\n",
            "like: 24\n",
            "one: 24\n",
            "books: 21\n",
            "book: 18\n",
            "screen: 17\n",
            "great: 16\n",
            "light: 16\n",
            "size: 15\n",
            "battery: 14\n",
            "life: 14\n",
            "take: 13\n",
            "charge: 12\n",
            "easy: 12\n",
            "get: 11\n",
            "paperwhite: 11\n",
            "time: 10\n",
            "really: 9\n",
            "even: 9\n",
            "got: 9\n",
            "long: 9\n",
            "also: 8\n",
            "bought: 8\n",
            "day: 8\n",
            "best: 8\n",
            "use: 8\n",
            "every: 7\n",
            "Top 30 words in NEGATIVE comments:\n",
            "kindle: 54\n",
            "read: 20\n",
            "like: 19\n",
            "reading: 19\n",
            "books: 19\n",
            "get: 18\n",
            "one: 16\n",
            "amazon: 16\n",
            "book: 16\n",
            "would: 15\n",
            "want: 14\n",
            "screen: 14\n",
            "also: 12\n",
            "paperwhite: 10\n",
            "lot: 10\n",
            "service: 10\n",
            "buy: 9\n",
            "without: 9\n",
            "page: 9\n",
            "much: 9\n",
            "another: 9\n",
            "still: 9\n",
            "customer: 9\n",
            "battery: 9\n",
            "well: 8\n",
            "love: 8\n",
            "really: 8\n",
            "bought: 8\n",
            "light: 8\n",
            "time: 8\n"
          ]
        }
      ]
    },
    {
      "cell_type": "markdown",
      "source": [
        "**LiYuan/amazon-review-sentiment-analysis model**\n",
        "\n",
        "\n"
      ],
      "metadata": {
        "id": "o3hjwjI1YU3R"
      }
    },
    {
      "cell_type": "code",
      "source": [
        "classifier_Liy = pipeline(model=\"LiYuan/amazon-review-sentiment-analysis\")"
      ],
      "metadata": {
        "id": "IZ_4uznnVSw-"
      },
      "execution_count": 48,
      "outputs": []
    },
    {
      "cell_type": "code",
      "source": [
        "# output = classifier_Liy(\"this is bad\")\n",
        "# print(output)\n",
        "\n",
        "positive_count = 0\n",
        "negative_count = 0\n",
        "#1st number:+ve, 2nd number:-ve\n",
        "rating_Comment = [[\"1.0 out of 5 stars\",0,0,0,0,0],[\"2.0 out of 5 stars\",0,0,0,0,0],[\"3.0 out of 5 stars\",0,0,0,0,0],[\"4.0 out of 5 stars\",0,0,0,0,0],[\"5.0 out of 5 stars\",0,0,0,0,0]]\n",
        "#print(rating_Comment[1][0]) #\"2.0 out of 5 stars\"\n",
        "all_data = [] #0:id, 1:reviewer, 2:rating, 3:title, 4:comment, 5:label, 6:score\n",
        "all_data_columns = ['ID', 'Reviewer', 'Rating', 'Title', 'Comment', 'Label', 'Score']\n",
        "counter = 0\n",
        "\n",
        "for i in range(len(review_data)):\n",
        "    # print(i)\n",
        "    #print(review_data[i])\n",
        "    if len(review_data[i]) > 1500:\n",
        "      for j in range(len(review_data[i])//1500+1):\n",
        "        output = classifier_Liy(review_data[i][j*1500:(j+1)*1500])\n",
        "        # print(output)\n",
        "        for result in output:\n",
        "            if result['label'] == '1 star':\n",
        "                for k in range(0,5):\n",
        "                    if rating[i] == rating_Comment[k][0]:\n",
        "                        #print(rating[i])\n",
        "                        rating_Comment[k][1] += 1/((len(review_data[i])//1500)+1)\n",
        "            elif result['label'] == '2 stars':\n",
        "                for k in range(0,5):\n",
        "                    if rating[i] == rating_Comment[k][0]:\n",
        "                        #print(rating[i])\n",
        "                        rating_Comment[k][2] += 1/((len(review_data[i])//1500)+1)\n",
        "            elif result['label'] == '3 stars':\n",
        "                for k in range(0,5):\n",
        "                    if rating[i] == rating_Comment[k][0]:\n",
        "                        #print(rating[i])\n",
        "                        rating_Comment[k][3] += 1/((len(review_data[i])//1500)+1)\n",
        "            elif result['label'] == '4 stars':\n",
        "                for k in range(0,5):\n",
        "                    if rating[i] == rating_Comment[k][0]:\n",
        "                        #print(rating[i])\n",
        "                        rating_Comment[k][4] += 1/((len(review_data[i])//1500)+1)\n",
        "            elif result['label'] == '5 stars':\n",
        "                for k in range(0,5):\n",
        "                    if rating[i] == rating_Comment[k][0]:\n",
        "                        #print(rating[i])\n",
        "                        rating_Comment[k][5] += 1/((len(review_data[i])//1500)+1)\n",
        "        all_data.append([0] * 7)\n",
        "        all_data[counter][0] = i+((j+1)/10)\n",
        "        all_data[counter][1] = reviewer[i]\n",
        "        all_data[counter][2] = rating[i]\n",
        "        all_data[counter][3] = review_title[i]\n",
        "        all_data[counter][4] = review_data[i][j*1500:(j+1)*1500]\n",
        "        all_data[counter][5] = result['label']\n",
        "        all_data[counter][6] = result['score']\n",
        "        counter += 1\n",
        "    elif len(review_data[i]) <= 1500:\n",
        "        output = classifier_Liy(review_data[i])\n",
        "        #print(output)\n",
        "        for result in output:\n",
        "            if result['label'] == '1 star':\n",
        "                for k in range(0,5):\n",
        "                    if rating[i] == rating_Comment[k][0]:\n",
        "                        #print(rating[i])\n",
        "                        rating_Comment[k][1] += 1\n",
        "            elif result['label'] == '2 stars':\n",
        "                for k in range(0,5):\n",
        "                    if rating[i] == rating_Comment[k][0]:\n",
        "                        #print(rating[i])\n",
        "                        rating_Comment[k][2] += 1\n",
        "            elif result['label'] == '3 stars':\n",
        "                for k in range(0,5):\n",
        "                    if rating[i] == rating_Comment[k][0]:\n",
        "                        #print(rating[i])\n",
        "                        rating_Comment[k][3] += 1\n",
        "            elif result['label'] == '4 stars':\n",
        "                for k in range(0,5):\n",
        "                    if rating[i] == rating_Comment[k][0]:\n",
        "                        #print(rating[i])\n",
        "                        rating_Comment[k][4] += 1\n",
        "            elif result['label'] == '5 stars':\n",
        "                for k in range(0,5):\n",
        "                    if rating[i] == rating_Comment[k][0]:\n",
        "                        #print(rating[i])\n",
        "                        rating_Comment[k][5] += 1\n",
        "        all_data.append([0] * 7)\n",
        "        all_data[counter][0] = i\n",
        "        all_data[counter][1] = reviewer[i]\n",
        "        all_data[counter][2] = rating[i]\n",
        "        all_data[counter][3] = review_title[i]\n",
        "        all_data[counter][4] = review_data[i]\n",
        "        all_data[counter][5] = result['label']\n",
        "        all_data[counter][6] = result['score']\n",
        "        counter += 1\n",
        "\n",
        "#print(all_data)\n",
        "\n",
        "\n",
        "# print(\"Positive Count:\", positive_count)\n",
        "# print(\"Negative Count:\", negative_count)\n",
        "# print(\"Rating:\", rating_Comment)\n"
      ],
      "metadata": {
        "id": "c4CRN9SsWxEU"
      },
      "execution_count": 49,
      "outputs": []
    },
    {
      "cell_type": "code",
      "source": [
        "pd.set_option('display.max_columns', None)\n",
        "df = pd.DataFrame(all_data, columns=all_data_columns)\n",
        "print(df)"
      ],
      "metadata": {
        "colab": {
          "base_uri": "https://localhost:8080/"
        },
        "id": "t7JEW-4SZG5o",
        "outputId": "588c3144-7033-4eb8-bc29-39e76acdc93d"
      },
      "execution_count": 50,
      "outputs": [
        {
          "output_type": "stream",
          "name": "stdout",
          "text": [
            "       ID                 Reviewer              Rating  \\\n",
            "0     0.0           Sharon Freelon  2.0 out of 5 stars   \n",
            "1     1.0                 Duckfeet  5.0 out of 5 stars   \n",
            "2     2.0          Rachel Drenning  5.0 out of 5 stars   \n",
            "3     3.0               powerglide  4.0 out of 5 stars   \n",
            "4     4.0  Salvador Congost Luengo  5.0 out of 5 stars   \n",
            "..    ...                      ...                 ...   \n",
            "101  95.0             Heidi Bastek  3.0 out of 5 stars   \n",
            "102  96.0           Cliente Amazon  5.0 out of 5 stars   \n",
            "103  97.0                  Peter F  5.0 out of 5 stars   \n",
            "104  98.0                   Birgit  5.0 out of 5 stars   \n",
            "105  99.0             Amazon Kunde  5.0 out of 5 stars   \n",
            "\n",
            "                                     Title  \\\n",
            "0                                 Well....   \n",
            "1    Perfect for backpacking entertainment   \n",
            "2                        Best eReader ever   \n",
            "3                                     Good   \n",
            "4                        Magnificent ebook   \n",
            "..                                     ...   \n",
            "101                         Warranty Claim   \n",
            "102  Compatibility with all e-book formats   \n",
            "103                           Perfect Book   \n",
            "104                         Good backlight   \n",
            "105                      Top e-Book Reader   \n",
            "\n",
            "                                               Comment    Label     Score  \n",
            "0    So disappointed! I wanted a smaller eReader an...   1 star  0.623031  \n",
            "1    Update: recent update fixed the glitch and it ...  4 stars  0.974655  \n",
            "2    I have tried every Kindle, Book, Kobo, etc. an...  5 stars  0.957281  \n",
            "3    Good device, unfortunately reacts a bit sluggi...  4 stars  0.663645  \n",
            "4                         A good second-hand purchase.  5 stars  0.587017  \n",
            "..                                                 ...      ...       ...  \n",
            "101  The device can no longer be charged, how can w...   1 star  0.475232  \n",
            "102  I like almost everything, it's very comfortabl...  5 stars  0.822884  \n",
            "103  The pocketbook Touch HD3 has many advantages f...  4 stars  0.412182  \n",
            "104  I'm really excited. Very good to read. Light w...  5 stars  0.710432  \n",
            "105  Fast delivery, goods flawless. The reader gets...  5 stars  0.595826  \n",
            "\n",
            "[106 rows x 7 columns]\n"
          ]
        }
      ]
    },
    {
      "cell_type": "code",
      "source": [
        "# Rating data\n",
        "#Rating = [['1.0 out of 5 stars', 2, 19.0], ['2.0 out of 5 stars', 1, 9.0], ['3.0 out of 5 stars', 0, 5], ['4.0 out of 5 stars', 6.5, 3.5], ['5.0 out of 5 stars', 47.06666666666667, 6.933333333333334]]\n",
        "Rating = rating_Comment\n",
        "\n",
        "print (Rating)\n",
        "# Extracting data for plotting\n",
        "x = [item[0] for item in Rating]\n",
        "y_1 = [item[1] for item in Rating]\n",
        "y_2 = [item[2] for item in Rating]\n",
        "y_3 = [item[3] for item in Rating]\n",
        "y_4 = [item[4] for item in Rating]\n",
        "y_5 = [item[5] for item in Rating]\n",
        "\n",
        "# Calculate the total number of comments\n",
        "total_comments = [sum(item[1:]) for item in Rating]\n",
        "\n",
        "# Increase figure size\n",
        "plt.figure(figsize=(10, 6))\n",
        "\n",
        "# Set the width of the bars\n",
        "bar_width = 0.5\n",
        "\n",
        "# Plotting the bar chart\n",
        "plt.bar(x, total_comments, color='orange', width=bar_width)\n",
        "\n",
        "# Adjust x-axis tick positions\n",
        "#plt.xticks(rotation=45, ha='right')\n",
        "\n",
        "# Adding labels and title\n",
        "plt.xlabel('Rating')\n",
        "plt.ylabel('Total Number of Comments')\n",
        "plt.title('Total Number of Comments for Different Ratings')\n",
        "\n",
        "# Displaying the plot\n",
        "plt.tight_layout()\n",
        "plt.show()"
      ],
      "metadata": {
        "colab": {
          "base_uri": "https://localhost:8080/",
          "height": 644
        },
        "id": "lpFHDbufZL16",
        "outputId": "c0c0d416-370d-4a06-d5b0-9f12d0857bab"
      },
      "execution_count": 51,
      "outputs": [
        {
          "output_type": "stream",
          "name": "stdout",
          "text": [
            "[['1.0 out of 5 stars', 8.5, 2, 1, 0.5, 0], ['2.0 out of 5 stars', 3, 4, 2, 0, 0], ['3.0 out of 5 stars', 5.0, 4, 4.666666666666666, 4.333333333333333, 1], ['4.0 out of 5 stars', 1, 0, 1, 9, 7], ['5.0 out of 5 stars', 0, 0, 0, 4.5, 37.5]]\n"
          ]
        },
        {
          "output_type": "display_data",
          "data": {
            "text/plain": [
              "<Figure size 1000x600 with 1 Axes>"
            ],
            "image/png": "[encoded data removed]"
          },
          "metadata": {}
        }
      ]
    },
    {
      "cell_type": "code",
      "source": [
        "# Extracting data for plotting\n",
        "x = [item[0] for item in Rating]\n",
        "y_1 = [item[1] for item in Rating]\n",
        "y_2 = [item[2] for item in Rating]\n",
        "y_3 = [item[3] for item in Rating]\n",
        "y_4 = [item[4] for item in Rating]\n",
        "y_5 = [item[5] for item in Rating]\n",
        "\n",
        "# Set the width of the bars\n",
        "bar_width = 0.15\n",
        "\n",
        "# Set the positions of the bars on the x-axis\n",
        "r1 = np.arange(len(x))\n",
        "r2 = [x + bar_width for x in r1]\n",
        "r3 = [x + bar_width*2 for x in r1]\n",
        "r4 = [x + bar_width*3 for x in r1]\n",
        "r5 = [x + bar_width*4 for x in r1]\n",
        "\n",
        "# Increase figure size\n",
        "plt.figure(figsize=(10, 6))\n",
        "\n",
        "# Plotting the bars\n",
        "plt.bar(r1, y_1, width=bar_width, label='1 star', align='center')\n",
        "plt.bar(r2, y_2, width=bar_width, label='2 stars', align='center')\n",
        "plt.bar(r3, y_3, width=bar_width, label='3 stars', align='center')\n",
        "plt.bar(r4, y_4, width=bar_width, label='4 stars', align='center')\n",
        "plt.bar(r5, y_5, width=bar_width, label='5 stars', align='center')\n",
        "\n",
        "# Adding x-axis labels\n",
        "plt.xticks([r + bar_width*2 for r in r1], x)\n",
        "\n",
        "# Adding labels and title\n",
        "plt.xlabel('Rating')\n",
        "plt.ylabel('Count')\n",
        "plt.title('Positive and Negative Counts by Rating')\n",
        "\n",
        "# Adding legend\n",
        "plt.legend()\n",
        "\n",
        "# Displaying the plot\n",
        "plt.show()\n",
        "\n",
        "print(\"Rating:\", rating_Comment)"
      ],
      "metadata": {
        "colab": {
          "base_uri": "https://localhost:8080/",
          "height": 601
        },
        "id": "6bMAaIqmbTcG",
        "outputId": "c8dcaaa7-943c-4a44-8bce-cbfbb423cd6b"
      },
      "execution_count": 52,
      "outputs": [
        {
          "output_type": "display_data",
          "data": {
            "text/plain": [
              "<Figure size 1000x600 with 1 Axes>"
            ],
            "image/png": "[encoded data removed]"
          },
          "metadata": {}
        },
        {
          "output_type": "stream",
          "name": "stdout",
          "text": [
            "Rating: [['1.0 out of 5 stars', 8.5, 2, 1, 0.5, 0], ['2.0 out of 5 stars', 3, 4, 2, 0, 0], ['3.0 out of 5 stars', 5.0, 4, 4.666666666666666, 4.333333333333333, 1], ['4.0 out of 5 stars', 1, 0, 1, 9, 7], ['5.0 out of 5 stars', 0, 0, 0, 4.5, 37.5]]\n"
          ]
        }
      ]
    },
    {
      "cell_type": "markdown",
      "source": [
        "**model=\"nlptown/bert-base-multilingual-uncased-sentiment**"
      ],
      "metadata": {
        "id": "v5xfKzmYg4g9"
      }
    },
    {
      "cell_type": "code",
      "source": [
        "bert = pipeline(model=\"nlptown/bert-base-multilingual-uncased-sentiment\")"
      ],
      "metadata": {
        "id": "onHgE5xdgfM8"
      },
      "execution_count": 57,
      "outputs": []
    },
    {
      "cell_type": "code",
      "source": [
        "# output = testing(\"this is bad\")\n",
        "# print(output)\n",
        "\n",
        "positive_count = 0\n",
        "negative_count = 0\n",
        "#1st number:+ve, 2nd number:-ve\n",
        "rating_Comment = [[\"1.0 out of 5 stars\",0,0,0,0,0],[\"2.0 out of 5 stars\",0,0,0,0,0],[\"3.0 out of 5 stars\",0,0,0,0,0],[\"4.0 out of 5 stars\",0,0,0,0,0],[\"5.0 out of 5 stars\",0,0,0,0,0]]\n",
        "#print(rating_Comment[1][0]) #\"2.0 out of 5 stars\"\n",
        "all_data = [] #0:id, 1:reviewer, 2:rating, 3:title, 4:comment, 5:label, 6:score\n",
        "all_data_columns = ['ID', 'Reviewer', 'Rating', 'Title', 'Comment', 'Label', 'Score']\n",
        "counter = 0\n",
        "\n",
        "for i in range(len(review_data)):\n",
        "    # print(i)\n",
        "    #print(review_data[i])\n",
        "    if len(review_data[i]) > 1500:\n",
        "      for j in range(len(review_data[i])//1500+1):\n",
        "        output = bert(review_data[i][j*1500:(j+1)*1500])\n",
        "        # print(output)\n",
        "        for result in output:\n",
        "            if result['label'] == '1 star':\n",
        "                for k in range(0,5):\n",
        "                    if rating[i] == rating_Comment[k][0]:\n",
        "                        #print(rating[i])\n",
        "                        rating_Comment[k][1] += 1/((len(review_data[i])//1500)+1)\n",
        "            elif result['label'] == '2 stars':\n",
        "                for k in range(0,5):\n",
        "                    if rating[i] == rating_Comment[k][0]:\n",
        "                        #print(rating[i])\n",
        "                        rating_Comment[k][2] += 1/((len(review_data[i])//1500)+1)\n",
        "            elif result['label'] == '3 stars':\n",
        "                for k in range(0,5):\n",
        "                    if rating[i] == rating_Comment[k][0]:\n",
        "                        #print(rating[i])\n",
        "                        rating_Comment[k][3] += 1/((len(review_data[i])//1500)+1)\n",
        "            elif result['label'] == '4 stars':\n",
        "                for k in range(0,5):\n",
        "                    if rating[i] == rating_Comment[k][0]:\n",
        "                        #print(rating[i])\n",
        "                        rating_Comment[k][4] += 1/((len(review_data[i])//1500)+1)\n",
        "            elif result['label'] == '5 stars':\n",
        "                for k in range(0,5):\n",
        "                    if rating[i] == rating_Comment[k][0]:\n",
        "                        #print(rating[i])\n",
        "                        rating_Comment[k][5] += 1/((len(review_data[i])//1500)+1)\n",
        "        all_data.append([0] * 7)\n",
        "        all_data[counter][0] = i+((j+1)/10)\n",
        "        all_data[counter][1] = reviewer[i]\n",
        "        all_data[counter][2] = rating[i]\n",
        "        all_data[counter][3] = review_title[i]\n",
        "        all_data[counter][4] = review_data[i][j*1500:(j+1)*1500]\n",
        "        all_data[counter][5] = result['label']\n",
        "        all_data[counter][6] = result['score']\n",
        "        counter += 1\n",
        "    elif len(review_data[i]) <= 1500:\n",
        "        output = bert(review_data[i])\n",
        "        #print(output)\n",
        "        for result in output:\n",
        "            if result['label'] == '1 star':\n",
        "                for k in range(0,5):\n",
        "                    if rating[i] == rating_Comment[k][0]:\n",
        "                        #print(rating[i])\n",
        "                        rating_Comment[k][1] += 1\n",
        "            elif result['label'] == '2 stars':\n",
        "                for k in range(0,5):\n",
        "                    if rating[i] == rating_Comment[k][0]:\n",
        "                        #print(rating[i])\n",
        "                        rating_Comment[k][2] += 1\n",
        "            elif result['label'] == '3 stars':\n",
        "                for k in range(0,5):\n",
        "                    if rating[i] == rating_Comment[k][0]:\n",
        "                        #print(rating[i])\n",
        "                        rating_Comment[k][3] += 1\n",
        "            elif result['label'] == '4 stars':\n",
        "                for k in range(0,5):\n",
        "                    if rating[i] == rating_Comment[k][0]:\n",
        "                        #print(rating[i])\n",
        "                        rating_Comment[k][4] += 1\n",
        "            elif result['label'] == '5 stars':\n",
        "                for k in range(0,5):\n",
        "                    if rating[i] == rating_Comment[k][0]:\n",
        "                        #print(rating[i])\n",
        "                        rating_Comment[k][5] += 1\n",
        "        all_data.append([0] * 7)\n",
        "        all_data[counter][0] = i\n",
        "        all_data[counter][1] = reviewer[i]\n",
        "        all_data[counter][2] = rating[i]\n",
        "        all_data[counter][3] = review_title[i]\n",
        "        all_data[counter][4] = review_data[i]\n",
        "        all_data[counter][5] = result['label']\n",
        "        all_data[counter][6] = result['score']\n",
        "        counter += 1\n",
        "\n",
        "#print(all_data)\n",
        "\n",
        "\n",
        "# print(\"Positive Count:\", positive_count)\n",
        "# print(\"Negative Count:\", negative_count)\n",
        "# print(\"Rating:\", rating_Comment)\n"
      ],
      "metadata": {
        "id": "T8Fq4Zepg9E0"
      },
      "execution_count": null,
      "outputs": []
    },
    {
      "cell_type": "code",
      "source": [
        "pd.set_option('display.max_columns', None)\n",
        "df = pd.DataFrame(all_data, columns=all_data_columns)\n",
        "print(df)"
      ],
      "metadata": {
        "id": "G17ykVpehEL0"
      },
      "execution_count": null,
      "outputs": []
    },
    {
      "cell_type": "code",
      "source": [
        "# Rating data\n",
        "#Rating = [['1.0 out of 5 stars', 2, 19.0], ['2.0 out of 5 stars', 1, 9.0], ['3.0 out of 5 stars', 0, 5], ['4.0 out of 5 stars', 6.5, 3.5], ['5.0 out of 5 stars', 47.06666666666667, 6.933333333333334]]\n",
        "Rating = rating_Comment\n",
        "\n",
        "print (Rating)\n",
        "# Extracting data for plotting\n",
        "x = [item[0] for item in Rating]\n",
        "y_1 = [item[1] for item in Rating]\n",
        "y_2 = [item[2] for item in Rating]\n",
        "y_3 = [item[3] for item in Rating]\n",
        "y_4 = [item[4] for item in Rating]\n",
        "y_5 = [item[5] for item in Rating]\n",
        "\n",
        "# Calculate the total number of comments\n",
        "total_comments = [sum(item[1:]) for item in Rating]\n",
        "\n",
        "# Increase figure size\n",
        "plt.figure(figsize=(10, 6))\n",
        "\n",
        "# Set the width of the bars\n",
        "bar_width = 0.5\n",
        "\n",
        "# Plotting the bar chart\n",
        "plt.bar(x, total_comments, color='orange', width=bar_width)\n",
        "\n",
        "# Adjust x-axis tick positions\n",
        "#plt.xticks(rotation=45, ha='right')\n",
        "\n",
        "# Adding labels and title\n",
        "plt.xlabel('Rating')\n",
        "plt.ylabel('Total Number of Comments')\n",
        "plt.title('Total Number of Comments for Different Ratings')\n",
        "\n",
        "# Displaying the plot\n",
        "plt.tight_layout()\n",
        "plt.show()"
      ],
      "metadata": {
        "id": "77MaoSN3hG5Q"
      },
      "execution_count": null,
      "outputs": []
    },
    {
      "cell_type": "code",
      "source": [
        "# Extracting data for plotting\n",
        "x = [item[0] for item in Rating]\n",
        "y_1 = [item[1] for item in Rating]\n",
        "y_2 = [item[2] for item in Rating]\n",
        "y_3 = [item[3] for item in Rating]\n",
        "y_4 = [item[4] for item in Rating]\n",
        "y_5 = [item[5] for item in Rating]\n",
        "\n",
        "# Set the width of the bars\n",
        "bar_width = 0.15\n",
        "\n",
        "# Set the positions of the bars on the x-axis\n",
        "r1 = np.arange(len(x))\n",
        "r2 = [x + bar_width for x in r1]\n",
        "r3 = [x + bar_width*2 for x in r1]\n",
        "r4 = [x + bar_width*3 for x in r1]\n",
        "r5 = [x + bar_width*4 for x in r1]\n",
        "\n",
        "# Increase figure size\n",
        "plt.figure(figsize=(10, 6))\n",
        "\n",
        "# Plotting the bars\n",
        "plt.bar(r1, y_1, width=bar_width, label='1 star', align='center')\n",
        "plt.bar(r2, y_2, width=bar_width, label='2 stars', align='center')\n",
        "plt.bar(r3, y_3, width=bar_width, label='3 stars', align='center')\n",
        "plt.bar(r4, y_4, width=bar_width, label='4 stars', align='center')\n",
        "plt.bar(r5, y_5, width=bar_width, label='5 stars', align='center')\n",
        "\n",
        "# Adding x-axis labels\n",
        "plt.xticks([r + bar_width*2 for r in r1], x)\n",
        "\n",
        "# Adding labels and title\n",
        "plt.xlabel('Rating')\n",
        "plt.ylabel('Count')\n",
        "plt.title('Positive and Negative Counts by Rating')\n",
        "\n",
        "# Adding legend\n",
        "plt.legend()\n",
        "\n",
        "# Displaying the plot\n",
        "plt.show()\n",
        "\n",
        "print(\"Rating:\", rating_Comment)"
      ],
      "metadata": {
        "id": "2hvyHY1KhJTq"
      },
      "execution_count": null,
      "outputs": []
    }
  ],
  "metadata": {
    "interpreter": {
      "hash": "4aa270fab54f0f90f5403b19ad7d64ed4f07b8cca723e152711bda8b760f304b"
    },
    "kernelspec": {
      "display_name": "Python 3.8.16 ('HCI')",
      "language": "python",
      "name": "python3"
    },
    "language_info": {
      "codemirror_mode": {
        "name": "ipython",
        "version": 3
      },
      "file_extension": ".py",
      "mimetype": "text/x-python",
      "name": "python",
      "nbconvert_exporter": "python",
      "pygments_lexer": "ipython3",
      "version": "3.8.16"
    },
    "orig_nbformat": 4,
    "colab": {
      "provenance": []
    }
  },
  "nbformat": 4,
  "nbformat_minor": 0
}